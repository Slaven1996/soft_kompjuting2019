{
 "cells": [
  {
   "cell_type": "code",
   "execution_count": null,
   "metadata": {},
   "outputs": [],
   "source": [
    "import os\n",
    "import numpy as np\n",
    "import csv\n",
    "import cv2 # OpenCV\n",
    "import time\n",
    "from sklearn.svm import SVC # SVM klasifikator\n",
    "from sklearn.metrics import accuracy_score"
   ]
  },
  {
   "cell_type": "code",
   "execution_count": null,
   "metadata": {},
   "outputs": [],
   "source": [
    "def load_image(path):\n",
    "    return cv2.cvtColor(cv2.imread(path), cv2.COLOR_BGR2GRAY)\n",
    "    \n",
    "\n",
    "def resize_region(region):\n",
    "    return cv2.resize(region, (500, 500), interpolation=cv2.INTER_NEAREST)\n",
    "\n",
    "\n",
    "def reshape_data(input_data):\n",
    "    nsamples, nx, ny = input_data.shape\n",
    "    return input_data.reshape((nsamples, nx*ny))"
   ]
  },
  {
   "cell_type": "code",
   "execution_count": null,
   "metadata": {},
   "outputs": [],
   "source": [
    "flowers_train = {}\n",
    "flowers_test = {}\n",
    "\n",
    "\n",
    "with open('train_labels.csv') as csv_file:\n",
    "    csv_reader_train = csv.reader(csv_file, delimiter=',')\n",
    "    for row in csv_reader_train:\n",
    "        if row[0] == 'file':\n",
    "            continue\n",
    "       \n",
    "        flowers_train[row[0]] = row[1]\n",
    "        \n",
    "with open('test_labels.csv') as csv_file_test:\n",
    "    csv_reader_test = csv.reader(csv_file_test, delimiter=',')\n",
    "    line_count_test = 0\n",
    "    for row in csv_reader_test:\n",
    "        if row[0] == 'file':\n",
    "            continue\n",
    "\n",
    "        flowers_test[row[0]] = row[1]\n",
    "    "
   ]
  },
  {
   "cell_type": "code",
   "execution_count": null,
   "metadata": {},
   "outputs": [],
   "source": [
    "\n",
    "\n",
    "train_dir = 'train'\n",
    "\n",
    "train_images = []\n",
    "train_labels = []\n",
    "\n",
    "\n",
    "nbins = 9 # broj binova\n",
    "cell_size = (32, 32) # broj piksela po celiji\n",
    "block_size = (3, 3) # broj celija po bloku\n",
    "\n",
    "\n",
    "hog = cv2.HOGDescriptor(_winSize=(500 // cell_size[1] * cell_size[1], \n",
    "                    500 // cell_size[0] * cell_size[0]),\n",
    "                        _blockSize=(block_size[1] * cell_size[1],\n",
    "                                    block_size[0] * cell_size[0]),\n",
    "                        _blockStride=(cell_size[1], cell_size[0]),\n",
    "                        _cellSize=(cell_size[1], cell_size[0]),\n",
    "                        _nbins=nbins)\n",
    "\n",
    "\n",
    "for img_name in os.listdir(train_dir):\n",
    "    img_path = os.path.join(train_dir, img_name)\n",
    "    img = load_image(img_path)\n",
    "    resized_image = resize_region(img)\n",
    "    \n",
    "    train_images.append(hog.compute(resized_image))\n",
    "    train_labels.append(flowers_train[img_name])\n"
   ]
  },
  {
   "cell_type": "code",
   "execution_count": null,
   "metadata": {},
   "outputs": [],
   "source": [
    "\n",
    "x_train = np.array(train_images)\n",
    "x_train = reshape_data(x_train)\n",
    "y_train = np.array(train_labels)"
   ]
  },
  {
   "cell_type": "code",
   "execution_count": null,
   "metadata": {},
   "outputs": [],
   "source": [
    "test_dir = 'test'\n",
    "\n",
    "test_images = []\n",
    "test_labels = []\n",
    "\n",
    "for img_name in os.listdir(test_dir):\n",
    "    img_path = os.path.join(test_dir, img_name)\n",
    "    img = load_image(img_path)\n",
    "    resized_image = resize_region(img)\n",
    "    \n",
    "    test_images.append(hog.compute(resized_image))\n",
    "    test_labels.append(flowers_test[img_name])"
   ]
  },
  {
   "cell_type": "code",
   "execution_count": null,
   "metadata": {},
   "outputs": [],
   "source": [
    "x_test = np.array(test_images)\n",
    "x_test = reshape_data(x_test)\n",
    "y_test = np.array(test_labels)"
   ]
  },
  {
   "cell_type": "code",
   "execution_count": null,
   "metadata": {},
   "outputs": [],
   "source": [
    "start = time.time()\n",
    "clf_svm = SVC(kernel='linear',decision_function_shape = 'ovo') \n",
    "clf_svm.fit(x_train, y_train)\n",
    "y_train_pred = clf_svm.predict(x_train)\n",
    "y_test_pred = clf_svm.predict(x_test)\n",
    "\n",
    "print(\"Train accuracy: \", accuracy_score(y_train, y_train_pred))\n",
    "print(\"Test accuracy: \", accuracy_score(y_test, y_test_pred))\n",
    "end = time.time()\n",
    "print(end-start)\n"
   ]
  },
  {
   "cell_type": "code",
   "execution_count": null,
   "metadata": {},
   "outputs": [],
   "source": []
  }
 ],
 "metadata": {
  "kernelspec": {
   "display_name": "Python 3",
   "language": "python",
   "name": "python3"
  },
  "language_info": {
   "codemirror_mode": {
    "name": "ipython",
    "version": 3
   },
   "file_extension": ".py",
   "mimetype": "text/x-python",
   "name": "python",
   "nbconvert_exporter": "python",
   "pygments_lexer": "ipython3",
   "version": "3.6.5"
  }
 },
 "nbformat": 4,
 "nbformat_minor": 2
}
